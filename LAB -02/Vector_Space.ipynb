{
 "cells": [
  {
   "cell_type": "markdown",
   "metadata": {},
   "source": [
    "### Verify the rank-nullity theorem for the linear transformation\n",
    "##### T : R3 → R3 defined by T (x, y, z) = (x + 4y + 7z, 2x + 5y + 8z, 3x + 6y + 9z)."
   ]
  },
  {
   "cell_type": "code",
   "execution_count": 4,
   "metadata": {},
   "outputs": [
    {
     "name": "stdout",
     "output_type": "stream",
     "text": [
      " Rank of the matrix  2\n",
      " Null space of the matrix  [[-0.40824829]\n",
      " [ 0.81649658]\n",
      " [-0.40824829]]\n",
      " Null space of the matrix  1\n",
      " Rank - nullity theorem holds . \n"
     ]
    }
   ],
   "source": [
    "\n",
    "import numpy as np\n",
    "from scipy . linalg import null_space\n",
    "# Define a linear transformation interms of matrix\n",
    "A = np . array ( [ [1 , 2 , 3 ] , [4 , 5 , 6 ] , [7 , 8 , 9 ] ] )\n",
    "# Find the rank of the matrix A\n",
    "rank = np . linalg . matrix_rank ( A )\n",
    "print ( \" Rank of the matrix \" , rank )\n",
    "# Find the null space of the matrix A\n",
    "ns = null_space ( A )\n",
    "print ( \" Null space of the matrix \" , ns )\n",
    "# Find the dimension of the null space\n",
    "nullity = ns . shape [ 1 ]\n",
    "print ( \" Null space of the matrix \" , nullity )\n",
    "# Verify the rank - nullity theorem\n",
    "if rank + nullity == A . shape [ 1 ] :\n",
    "    print ( \" Rank - nullity theorem holds . \" )\n",
    "else :\n",
    "    print ( \" Rank - nullity theorem does not hold . \" )"
   ]
  },
  {
   "cell_type": "markdown",
   "metadata": {},
   "source": [
    "### Dimension of Vector Space\n",
    "##### Find the dimension of subspace spanned by the vectors (1, 2, 3), (2, 3, 1) and (3, 1, 2).\n"
   ]
  },
  {
   "cell_type": "code",
   "execution_count": 5,
   "metadata": {},
   "outputs": [
    {
     "name": "stdout",
     "output_type": "stream",
     "text": [
      " Basis of the matrix  3\n",
      " Dimension of the matrix  3\n"
     ]
    }
   ],
   "source": [
    "import numpy as np\n",
    "# Define the vector space V\n",
    "V = np . array ( [\n",
    "[1 , 2 , 3 ] ,\n",
    "[2 , 3 , 1 ] ,\n",
    "[3 , 1 , 2 ] ] )\n",
    "# Find the dimension and basis of V\n",
    "basis = np . linalg . matrix_rank ( V )\n",
    "dimension = V . shape [ 0 ]\n",
    "print ( \" Basis of the matrix \" , basis )\n",
    "print ( \" Dimension of the matrix \" , dimension )"
   ]
  },
  {
   "cell_type": "markdown",
   "metadata": {},
   "source": [
    "##### Extract the linearly independent rows in given matrix : Basis of Row space"
   ]
  },
  {
   "cell_type": "code",
   "execution_count": 9,
   "metadata": {},
   "outputs": [
    {
     "data": {
      "text/plain": [
       "' REF of given matrix : '"
      ]
     },
     "metadata": {},
     "output_type": "display_data"
    },
    {
     "data": {
      "text/latex": [
       "$\\displaystyle \\left[\\begin{matrix}1 & -1 & 1 & 1\\\\0 & -3 & 0 & 0\\\\0 & 0 & 2 & 0\\\\0 & 0 & 0 & 0\\end{matrix}\\right]$"
      ],
      "text/plain": [
       "Matrix([\n",
       "[1, -1, 1, 1],\n",
       "[0, -3, 0, 0],\n",
       "[0,  0, 2, 0],\n",
       "[0,  0, 0, 0]])"
      ]
     },
     "metadata": {},
     "output_type": "display_data"
    },
    {
     "name": "stdout",
     "output_type": "stream",
     "text": [
      " \n",
      " Basis are non - zero rows of A : \n"
     ]
    },
    {
     "data": {
      "text/latex": [
       "$\\displaystyle \\left[\\begin{matrix}1 & -1 & 1 & 1\\\\0 & -3 & 0 & 0\\\\0 & 0 & 2 & 0\\end{matrix}\\right]$"
      ],
      "text/plain": [
       "Matrix([\n",
       "[1, -1, 1, 1],\n",
       "[0, -3, 0, 0],\n",
       "[0,  0, 2, 0]])"
      ]
     },
     "metadata": {},
     "output_type": "display_data"
    }
   ],
   "source": [
    "from numpy import *\n",
    "import sympy as sp\n",
    "A = [ [1 , -1 ,1 , 1 ] ,[2 , -5 ,2 , 2 ] ,[3 , -3 ,5 , 3 ] ,[4 , -4 ,4 , 4 ] ]\n",
    "AB = array ( A )\n",
    "S = shape ( A )\n",
    "n = len ( A )\n",
    "for i in range ( n ) :\n",
    "    if AB [i , i ] == 0 :\n",
    "        ab = copy ( AB )\n",
    "        for k in range ( i +1 , S [ 0 ] ) :\n",
    "            if ab [k , i ] != 0 :\n",
    "                ab [i , : ] = AB [k , : ]\n",
    "                ab [k , : ] = AB [i , : ]\n",
    "                AB = copy ( ab )\n",
    "    for j in range ( i +1 , n ) :\n",
    "        Fact = AB [j , i ] / AB [i , i ]\n",
    "        for k in range (i , n ) :\n",
    "            AB [j , k ] = AB [j , k ] - Fact * AB [i , k ]\n",
    "display ( \" REF of given matrix : \" , sp . Matrix ( AB ) )\n",
    "temp = { (0 , 0 , 0 , 0 ) }\n",
    "result = [ ]\n",
    "for idx , row in enumerate ( map ( tuple , AB ) ) :\n",
    "    if row not in temp :\n",
    "        result . append ( idx )\n",
    "print ( \" \\n Basis are non - zero rows of A : \" )\n",
    "display ( sp . Matrix ( AB [ result ] ) )"
   ]
  },
  {
   "cell_type": "markdown",
   "metadata": {},
   "source": [
    "### Graphical representation of a transformation\n",
    "#### Horizontal stretch:\n",
    "##### Represent the horizontal stretch transformation T : $R^2ßR^2$ geometrically. Find the image of vector (10, 0) when it is stretched horizontally by 2 units.\n"
   ]
  },
  {
   "cell_type": "code",
   "execution_count": 15,
   "metadata": {},
   "outputs": [
    {
     "data": {
      "image/png": "[encoded data removed]",
      "text/plain": [
       "<Figure size 640x480 with 1 Axes>"
      ]
     },
     "metadata": {},
     "output_type": "display_data"
    }
   ],
   "source": [
    "import numpy as np\n",
    "import matplotlib.pyplot as plt\n",
    "\n",
    "V = np.array([[10, 0]])\n",
    "origin = np.array([[0, 0], [0, 0]])  # origin point\n",
    "A = np.matrix([[2, 0], [0, 1]])\n",
    "V1 = np.matrix(V)\n",
    "V2 = A * np.transpose(V1)\n",
    "V2 = np.array(V2)\n",
    "\n",
    "plt.quiver(*origin, V[:, 0], V[:, 1], color=['b'], scale=50)\n",
    "plt.quiver(*origin, V2[0, :], V2[1, :], color=['r'], scale=50)\n",
    "\n",
    "plt.show()\n"
   ]
  },
  {
   "cell_type": "code",
   "execution_count": 17,
   "metadata": {},
   "outputs": [
    {
     "data": {
      "image/png": "[encoded data removed]",
      "text/plain": [
       "<Figure size 640x480 with 1 Axes>"
      ]
     },
     "metadata": {},
     "output_type": "display_data"
    }
   ],
   "source": [
    "from math import pi, sin, cos\n",
    "import matplotlib.pyplot as plt\n",
    "import numpy as np\n",
    "\n",
    "coords = np.array([[0, 0], [0.5, 0.5], [0.5, 1.5], [0, 1], [0, 0]])\n",
    "coords = coords.transpose()\n",
    "\n",
    "x = coords[0, :]\n",
    "y = coords[1, :]\n",
    "\n",
    "A = np.array([[2, 0], [0, 1]])\n",
    "A_coords = A @ coords\n",
    "x_LT1 = A_coords[0, :]\n",
    "y_LT1 = A_coords[1, :]\n",
    "\n",
    "# Create the figure and axes objects\n",
    "fig, ax = plt.subplots()\n",
    "\n",
    "# Plot the points. x and y are original vectors, x_LT1 and y_LT1 are images\n",
    "ax.plot(x, y, 'ro')\n",
    "ax.plot(x_LT1, y_LT1, 'bo')\n",
    "\n",
    "# Connect the points by lines\n",
    "ax.plot(x, y, 'r', ls=\"--\")\n",
    "ax.plot(x_LT1, y_LT1, 'b')\n",
    "\n",
    "# Edit some settings\n",
    "ax.axvline(x=0, color=\"k\", ls=\":\")\n",
    "ax.axhline(y=0, color=\"k\", ls=\":\")\n",
    "ax.grid(True)\n",
    "ax.axis([-2, 2, -1, 2])\n",
    "ax.set_aspect('equal')\n",
    "ax.set_title(\"Horizontal Stretch\")\n",
    "\n",
    "plt.show()\n"
   ]
  },
  {
   "cell_type": "code",
   "execution_count": null,
   "metadata": {},
   "outputs": [],
   "source": []
  }
 ],
 "metadata": {
  "kernelspec": {
   "display_name": "Python 3",
   "language": "python",
   "name": "python3"
  },
  "language_info": {
   "codemirror_mode": {
    "name": "ipython",
    "version": 3
   },
   "file_extension": ".py",
   "mimetype": "text/x-python",
   "name": "python",
   "nbconvert_exporter": "python",
   "pygments_lexer": "ipython3",
   "version": "3.10.8"
  },
  "orig_nbformat": 4
 },
 "nbformat": 4,
 "nbformat_minor": 2
}
