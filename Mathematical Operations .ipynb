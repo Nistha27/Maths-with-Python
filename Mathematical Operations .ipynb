{
 "cells": [
  {
   "cell_type": "code",
   "execution_count": 7,
   "id": "2283bc60",
   "metadata": {},
   "outputs": [
    {
     "name": "stdout",
     "output_type": "stream",
     "text": [
      "Value of y at 0.1 = 0.913794503585262\n"
     ]
    }
   ],
   "source": [
    "#Python program to find y(0.1) by Runge Kutta method dy/dx = x-y**2 , y(0)=1\n",
    "from sympy import *\n",
    "f = lambda x,y : x - y**2\n",
    "x0=0\n",
    "y0=1\n",
    "h =0.1\n",
    "k1 = h*f(x0,y0)\n",
    "k2 = h*f(x0+h/2,y0+k1/2)\n",
    "k3 = h*f(x0+h/2,y0+k2/2)\n",
    "k4 = h*f(x0+h,y0+k3)\n",
    "value = y0+(1/6)*(k1 + 2*k2 + 2*k3 + k4)\n",
    "print(f\"Value of y at 0.1 = {value}\")"
   ]
  },
  {
   "cell_type": "code",
   "execution_count": 9,
   "id": "1169dd8f",
   "metadata": {},
   "outputs": [
    {
     "data": {
      "text/latex": [
       "$\\displaystyle \\int\\limits_{0}^{1}\\int\\limits_{0}^{x} \\left(x^{2} + y^{2}\\right)\\, dy\\, dx$"
      ],
      "text/plain": [
       "Integral(x**2 + y**2, (y, 0, x), (x, 0, 1))"
      ]
     },
     "metadata": {},
     "output_type": "display_data"
    },
    {
     "name": "stdout",
     "output_type": "stream",
     "text": [
      "= 1/3\n"
     ]
    }
   ],
   "source": [
    "from sympy import *\n",
    "var(\"x,y\")\n",
    "display(Integral (x**2+y**2,(y,0,x),(x,0,1)))\n",
    "I = integrate (x**2+y**2,(y,0,x),(x,0,1))\n",
    "print(\"=\",I)"
   ]
  },
  {
   "cell_type": "code",
   "execution_count": 17,
   "id": "3e6167a1",
   "metadata": {},
   "outputs": [
    {
     "data": {
      "text/latex": [
       "$\\displaystyle \\int\\limits_{0}^{3}\\int\\limits_{0}^{3 - x}\\int\\limits_{0}^{- x - y + 3} x y z\\, dz\\, dy\\, dx$"
      ],
      "text/plain": [
       "Integral(x*y*z, (z, 0, -x - y + 3), (y, 0, 3 - x), (x, 0, 3))"
      ]
     },
     "metadata": {},
     "output_type": "display_data"
    },
    {
     "name": "stdout",
     "output_type": "stream",
     "text": [
      "= 81/80\n"
     ]
    }
   ],
   "source": [
    "#Program to evaluate the integral \n",
    "from sympy import *\n",
    "var(\"x,y,z\")\n",
    "display(Integral((x*y*z),(z,0,(3-x-y)),(y,0,(3-x)),(x,0,3)))\n",
    "I = integrate((x*y*z),(z,0,(3-x-y)),(y,0,(3-x)),(x,0,3))\n",
    "print(\"=\",I)"
   ]
  },
  {
   "cell_type": "code",
   "execution_count": 18,
   "id": "267c1dd3",
   "metadata": {},
   "outputs": [
    {
     "name": "stdout",
     "output_type": "stream",
     "text": [
      "The value of y at 0.2 : 1.1672208333333334\n"
     ]
    }
   ],
   "source": [
    "#Python to evalute by Runge Kutta Method \n",
    "f = lambda x,y : 3*x + y/2\n",
    "x0 = 0\n",
    "y0 = 1\n",
    "h =0.2\n",
    "k1=h*f(x0,y0)\n",
    "k2=h*f(x0+h/2,y0+k1/2)\n",
    "k3=h*f(x0+h/2,y0+k2/2)\n",
    "k4=h*f(x0+h,y0+k3)\n",
    "y1=y0+(1/6)*(k1+2*k2+2*k3+k4)\n",
    "print(f\"The value of y at 0.2 : {y1}\")"
   ]
  },
  {
   "cell_type": "code",
   "execution_count": 19,
   "id": "0a1b06ae",
   "metadata": {},
   "outputs": [
    {
     "name": "stdout",
     "output_type": "stream",
     "text": [
      "Area,  A =\n"
     ]
    },
    {
     "data": {
      "text/latex": [
       "$\\displaystyle 4 \\int\\limits_{0}^{a}\\int\\limits_{0}^{\\frac{b \\sqrt{a^{2} - x^{2}}}{a}} 1\\, dy\\, dx$"
      ],
      "text/plain": [
       "4*Integral(1, (y, 0, b*sqrt(a**2 - x**2)/a), (x, 0, a))"
      ]
     },
     "metadata": {},
     "output_type": "display_data"
    },
    {
     "name": "stdout",
     "output_type": "stream",
     "text": [
      "= pi*a*b\n"
     ]
    }
   ],
   "source": [
    "from sympy import *\n",
    "a,b = symbols(\"a,b\",real = True , positive = True)\n",
    "var(\"x,y\")\n",
    "print(\"Area,  A =\")\n",
    "display(4*Integral (1,(y,0,b*sqrt(a**2-x**2)/a),(x,0,a)))\n",
    "A= 4*integrate(1,(y,0,b*sqrt(a**2-x**2)/a),(x,0,a))\n",
    "print(\"=\",A)"
   ]
  },
  {
   "cell_type": "code",
   "execution_count": 22,
   "id": "ca261114",
   "metadata": {},
   "outputs": [
    {
     "data": {
      "text/latex": [
       "$\\displaystyle \\int\\limits_{0}^{\\sqrt{16 - y^{2}}}\\int\\limits_{0}^{\\sqrt{16 - x^{2}}} 1\\, dy\\, dx$"
      ],
      "text/plain": [
       "Integral(1, (y, 0, sqrt(16 - x**2)), (x, 0, sqrt(16 - y**2)))"
      ]
     },
     "metadata": {},
     "output_type": "display_data"
    },
    {
     "name": "stdout",
     "output_type": "stream",
     "text": [
      "Area = y*sqrt(16 - y**2)/2 + 8*asin(sqrt(16 - y**2)/4) \n"
     ]
    }
   ],
   "source": [
    "from sympy import *\n",
    "x,y = symbols(\"x,y\",real = True, positive = True)\n",
    "display(Integral(1,(y,0,sqrt(16-x**2)),(x,0,(sqrt(16-y**2)))))\n",
    "A = integrate(1,(y,0,sqrt(16-x**2)),(x,0,(sqrt(16-y**2))))\n",
    "print(f\"Area = {A} \") "
   ]
  },
  {
   "cell_type": "code",
   "execution_count": 24,
   "id": "22f06cbd",
   "metadata": {},
   "outputs": [
    {
     "name": "stdout",
     "output_type": "stream",
     "text": [
      "The value of y at 0.2 : 2.6187786960514234\n"
     ]
    }
   ],
   "source": [
    "#Runge Kutta\n",
    "from sympy import *\n",
    "f = lambda x,y : 1+(y/x)\n",
    "x0=1\n",
    "y0=2\n",
    "h=0.2\n",
    "k1=h*f(x0,y0)\n",
    "k2=h*f(x0+h/2,y0+k1/2)\n",
    "k3=h*f(x0+h/2,y0+k2/2)\n",
    "k4=h*f(x0+h,y0+k3)\n",
    "y1=y0+(1/6)*(k1+2*k2+2*k3+k4)\n",
    "print(f\"The value of y at 0.2 : {y1}\")"
   ]
  },
  {
   "cell_type": "code",
   "execution_count": 25,
   "id": "d6a86e2a",
   "metadata": {},
   "outputs": [
    {
     "name": "stdout",
     "output_type": "stream",
     "text": [
      "Beta(3,5)=0.010\n",
      "gamma(5)= 24\n"
     ]
    }
   ],
   "source": [
    "#Beta and Gamma Function \n",
    "from sympy import *\n",
    "print(\"Beta(3,5)=%0.3f\"%beta(3.0,5.0))\n",
    "print(\"gamma(5)=\",gamma(5))"
   ]
  },
  {
   "cell_type": "code",
   "execution_count": 26,
   "id": "765974f1",
   "metadata": {},
   "outputs": [
    {
     "name": "stdout",
     "output_type": "stream",
     "text": [
      "β(m,n)=0.000433 RHS=0.000433\n",
      "Beta and Gamma relation verified\n"
     ]
    }
   ],
   "source": [
    "#Finding relation between gamma and beta function\n",
    "from sympy import  *\n",
    "m,n=5.0,7.0\n",
    "γm = gamma(m)\n",
    "γn = gamma(n)\n",
    "γmn = gamma(m+n)\n",
    "βmn = beta(m,n)\n",
    "RHS = (γm*γn)/γmn\n",
    "print(\"β(m,n)=%0.6f\"%βmn,\"RHS=%0.6f\"%RHS)\n",
    "if(βmn==RHS):\n",
    "    print(\"Beta and Gamma relation verified\")"
   ]
  },
  {
   "cell_type": "code",
   "execution_count": 31,
   "id": "c8e43444",
   "metadata": {},
   "outputs": [
    {
     "name": "stdout",
     "output_type": "stream",
     "text": [
      "[2*y(x) + 3*exp(x), 4*y(x) + 9*exp(x)]\n",
      "[2*y(x) + 3*exp(x), 4*y(x) + 9*exp(x), 8*y(x) + 21*exp(x)]\n",
      "[2*y(x) + 3*exp(x), 4*y(x) + 9*exp(x), 8*y(x) + 21*exp(x), 16*y(x) + 45*exp(x)]\n",
      "Taylor Sries Expansion upto 4th degree term is \n"
     ]
    },
    {
     "data": {
      "text/latex": [
       "$\\displaystyle 3.5 x_{1}^{3} + 4.5 x_{1}^{2} + 3.0 x_{1}$"
      ],
      "text/plain": [
       "3.5*x1**3 + 4.5*x1**2 + 3.0*x1"
      ]
     },
     "metadata": {},
     "output_type": "display_data"
    },
    {
     "name": "stdout",
     "output_type": "stream",
     "text": [
      "Enter the value at which you need y:2\n",
      "y(x1)=52.0000\n"
     ]
    }
   ],
   "source": [
    "from sympy import *\n",
    "var(\"x,x1\")\n",
    "y=Function(\"y\")(x)\n",
    "f=2*y+3*exp(x)\n",
    "x0,y0=0,0\n",
    "fi=f\n",
    "der=[f]\n",
    "for i in range(3):\n",
    "    der.append(diff(f,x).subs(diff(y,x),fi))\n",
    "    print(der)\n",
    "    f=der[i+1]\n",
    "yx1=y0\n",
    "for i in range(3):\n",
    "    f1 = lambdify([x,y],der[i])\n",
    "    yx1=yx1+(((x1-x0)**(i+1))/factorial(i+1))*f1(x0,y0)\n",
    "print(\"Taylor Sries Expansion upto 4th degree term is \" )\n",
    "display(yx1)\n",
    "print(f\"y({x1})=%0.4f\"%yx1.subs(x1,float(input(\"Enter the value at which you need y:\"))))"
   ]
  },
  {
   "cell_type": "code",
   "execution_count": 34,
   "id": "6e9603fd",
   "metadata": {},
   "outputs": [
    {
     "name": "stdout",
     "output_type": "stream",
     "text": [
      "Enter the maximum number of iterations needs to be performed5\n",
      "The initialized value of x = 0.20 , y1E =-0.80\n",
      "By Modified Euclers Method\n",
      "Iteration \t\ty10.2\n",
      "1 \t\t-0.8181\n",
      "2 \t\t-0.8181\n",
      "\n",
      "y0.2)=-0.8181\n"
     ]
    }
   ],
   "source": [
    "from sympy import *\n",
    "f = lambda x,y : exp(-x)\n",
    "x0=0\n",
    "y0=-1\n",
    "h=0.2\n",
    "n=int(input(\"Enter the maximum number of iterations needs to be performed\"))\n",
    "x1=x0+h\n",
    "y1E=y0+h*f(x0,y0)\n",
    "print(\"The initialized value of x = %0.2f , y1E =%0.2f\"%(x1,y1E))\n",
    "print(\"By Modified Euclers Method\")\n",
    "print(f\"Iteration \\t\\ty1{x1}\")\n",
    "for i in range(n):\n",
    "    y1 = y0+(h/2)*(f(x0,y0)+f(x1,y1E))\n",
    "    print(i+1,\"\\t\\t%0.4f\"%y1)\n",
    "    if abs(y1-y1E)<0.0001:\n",
    "        break\n",
    "    else:\n",
    "        y1E=y1\n",
    "print(f\"\\ny{x1})=%0.4f\"%y1)"
   ]
  },
  {
   "cell_type": "code",
   "execution_count": 35,
   "id": "a414c459",
   "metadata": {},
   "outputs": [
    {
     "name": "stdout",
     "output_type": "stream",
     "text": [
      "Enter the maximum number of iterations:5\n",
      "Initial guess by Eulers Method x=0.1 y=0.0\n",
      "By Euler's Method\n",
      "Iteration\t\ty1(0.1)\n",
      "1 \t\t\t0.0050\n",
      "2 \t\t\t0.0053\n",
      "3 \t\t\t0.0053\n",
      "\n",
      "y(0.1)=0.0053\n"
     ]
    }
   ],
   "source": [
    "#Modified Euclers Method\n",
    "f = lambda x,y: x+y\n",
    "x0=0\n",
    "y0=0\n",
    "h=0.1\n",
    "n=int(input(\"Enter the maximum number of iterations:\"))\n",
    "x1=x0+h\n",
    "y1e=y0+h*f(x0,y0)\n",
    "print(f\"Initial guess by Eulers Method x={x1} y={y1e}\")\n",
    "print(\"By Euler's Method\")\n",
    "print(f\"Iteration\\t\\ty1({x1})\")\n",
    "for i in range(n):\n",
    "    y1=y0+(h/2)*(f(x0,y0)+f(x1,y1e))\n",
    "    print(i+1, \"\\t\\t\\t%0.4f\"%y1)\n",
    "    if abs(y1-y1e)<0.0001:\n",
    "        break\n",
    "    else:\n",
    "        y1e=y1\n",
    "print(f\"\\ny({x1})=%0.4f\"%y1)"
   ]
  },
  {
   "cell_type": "code",
   "execution_count": 37,
   "id": "431a1ab7",
   "metadata": {},
   "outputs": [
    {
     "name": "stdout",
     "output_type": "stream",
     "text": [
      "x0=0.0000\ty0=1.0000\tf0=1.0000\n",
      "x1=0.1000\ty1=1.1113\tf1=1.2450\n",
      "x2=0.2000\ty2=1.2507\tf2=1.6043\n",
      "x3=0.3000\ty3=1.4260\tf3=2.1235\n",
      "The predicted value at x4=0.4000 is y4p=1.68436\n",
      "\n",
      "The corrected value at x4=0.4000 in iteration 3 is y4c3=2.00000\n"
     ]
    }
   ],
   "source": [
    "#MILNE'S CORRECTOR AND PREDICTOR FORMULA\n",
    "func = lambda x,y : x**2+y**2\n",
    "x=[0,0.1,0.2,0.3]\n",
    "y=[1,1.1113,1.2507,1.426]\n",
    "h=0.1\n",
    "f=[]\n",
    "for i in range(4):\n",
    "    f.append(func(x[i],y[i]))\n",
    "    print(f\"x{i}=%0.4f\\ty{i}=%0.4f\\tf{i}=%0.4f\"%(x[i],y[i],f[i]))\n",
    "#predict y4=y(x4)\n",
    "x4=x[3]+h\n",
    "y4p=y[0]+(4*h/3)*(2*f[1]-f[2]+2*f[3])\n",
    "print(\"The predicted value at x4=%.4f is y4p=%.5f\\n\"%(x4,y4p))\n",
    "#Correction\n",
    "for i in range(3):\n",
    "    f4p=func(x4,y4p)\n",
    "    y4c=y[2]+(h/3)*(f[2]+4*f[3]+f4p)\n",
    "    y4p=y4c\n",
    "print(f\"The corrected value at x4=%.4f in iteration {i+1} is y4c{i+1}=%.5f\"%(x4,i))"
   ]
  },
  {
   "cell_type": "code",
   "execution_count": 42,
   "id": "6a320e83",
   "metadata": {},
   "outputs": [
    {
     "ename": "SyntaxError",
     "evalue": "invalid syntax (1806349847.py, line 16)",
     "output_type": "error",
     "traceback": [
      "\u001b[1;36m  Input \u001b[1;32mIn [42]\u001b[1;36m\u001b[0m\n\u001b[1;33m    print(\"=\")\u001b[0m\n\u001b[1;37m    ^\u001b[0m\n\u001b[1;31mSyntaxError\u001b[0m\u001b[1;31m:\u001b[0m invalid syntax\n"
     ]
    }
   ],
   "source": [
    "#Find the curl\n",
    "#Python program to find curl\n",
    "from sympy . physics . vector import *\n",
    "from sympy import var, diff, Derivative\n",
    "var('x,y,z')\n",
    "v=ReferenceFrame('v')\n",
    "F1=x**3\n",
    "F2=y**3\n",
    "F3=z**3\n",
    "F=F1*v.x+F2*v.y+F3*v.z\n",
    "curlF=(diff(F3,y)-diff(F2,z)*v.x-diff(F3,x)-diff(F1,z)*v.y+diff(F2,x)-diff(F1,y)*v.z)\n",
    "print(\"Given vector point functions is\")\n",
    "display(F)\n",
    "print(\"Curl of F is\")\n",
    "display((Derivative(F3,y)-Derivative(F2,z))*v.x-(Derivative(F3,x)-Derivative(F1,z)*v.y+(Derivative(F2,x)-Derivative(F1,y))*v.z)\n",
    "print(\"=\")\n",
    "display(curlF)"
   ]
  },
  {
   "cell_type": "code",
   "execution_count": 43,
   "id": "e2b850d4",
   "metadata": {},
   "outputs": [
    {
     "name": "stdout",
     "output_type": "stream",
     "text": [
      "Given vector point functions is\n"
     ]
    },
    {
     "data": {
      "text/latex": [
       "$\\displaystyle x^{3}\\mathbf{\\hat{v}_x} + y^{3}\\mathbf{\\hat{v}_y} + z^{3}\\mathbf{\\hat{v}_z}$"
      ],
      "text/plain": [
       "x**3*v.x + y**3*v.y + z**3*v.z"
      ]
     },
     "metadata": {},
     "output_type": "display_data"
    },
    {
     "name": "stdout",
     "output_type": "stream",
     "text": [
      "Curl of F is\n"
     ]
    },
    {
     "data": {
      "text/latex": [
       "$\\displaystyle (- \\frac{d}{d z} y^{3} + \\frac{d}{d y} z^{3})\\mathbf{\\hat{v}_x} + (\\frac{d}{d z} x^{3} - \\frac{d}{d x} z^{3})\\mathbf{\\hat{v}_y} + (- \\frac{d}{d y} x^{3} + \\frac{d}{d x} y^{3})\\mathbf{\\hat{v}_z}$"
      ],
      "text/plain": [
       "(-Derivative(y**3, z) + Derivative(z**3, y))*v.x + (Derivative(x**3, z) - Derivative(z**3, x))*v.y + (-Derivative(x**3, y) + Derivative(y**3, x))*v.z"
      ]
     },
     "metadata": {},
     "output_type": "display_data"
    }
   ],
   "source": [
    "from sympy.physics.vector import ReferenceFrame\n",
    "from sympy import symbols, diff, Derivative\n",
    "\n",
    "x, y, z = symbols('x y z')\n",
    "v = ReferenceFrame('v')\n",
    "F1 = x**3\n",
    "F2 = y**3\n",
    "F3 = z**3\n",
    "F = F1*v.x + F2*v.y + F3*v.z\n",
    "\n",
    "curlF = ((Derivative(F3, y) - Derivative(F2, z)) * v.x -\n",
    "         (Derivative(F3, x) - Derivative(F1, z)) * v.y +\n",
    "         (Derivative(F2, x) - Derivative(F1, y)) * v.z)\n",
    "\n",
    "print(\"Given vector point functions is\")\n",
    "display(F)\n",
    "\n",
    "print(\"Curl of F is\")\n",
    "display(curlF)\n"
   ]
  },
  {
   "cell_type": "code",
   "execution_count": null,
   "id": "7b529f67",
   "metadata": {},
   "outputs": [],
   "source": []
  }
 ],
 "metadata": {
  "kernelspec": {
   "display_name": "Python 3 (ipykernel)",
   "language": "python",
   "name": "python3"
  },
  "language_info": {
   "codemirror_mode": {
    "name": "ipython",
    "version": 3
   },
   "file_extension": ".py",
   "mimetype": "text/x-python",
   "name": "python",
   "nbconvert_exporter": "python",
   "pygments_lexer": "ipython3",
   "version": "3.9.12"
  }
 },
 "nbformat": 4,
 "nbformat_minor": 5
}
