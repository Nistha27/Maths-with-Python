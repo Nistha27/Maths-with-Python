{
  "nbformat": 4,
  "nbformat_minor": 0,
  "metadata": {
    "colab": {
      "provenance": []
    },
    "kernelspec": {
      "name": "python3",
      "display_name": "Python 3"
    },
    "language_info": {
      "name": "python"
    }
  },
  "cells": [
    {
      "cell_type": "code",
      "execution_count": null,
      "metadata": {
        "colab": {
          "base_uri": "https://localhost:8080/",
          "height": 125
        },
        "id": "lK3e0t75W3hr",
        "outputId": "0706afb7-6ee8-49ae-e614-0079c47ba8fe"
      },
      "outputs": [
        {
          "output_type": "stream",
          "name": "stdout",
          "text": [
            "Area, A= \n"
          ]
        },
        {
          "output_type": "display_data",
          "data": {
            "text/plain": [
              "4*Integral(1, (y, 0, b*sqrt(a**2 - x**2)/a), (x, 0, a))"
            ],
            "text/latex": "$\\displaystyle 4 \\int\\limits_{0}^{a}\\int\\limits_{0}^{\\frac{b \\sqrt{a^{2} - x^{2}}}{a}} 1\\, dy\\, dx$"
          },
          "metadata": {}
        },
        {
          "output_type": "stream",
          "name": "stdout",
          "text": [
            "= pi*a*b\n"
          ]
        }
      ],
      "source": [
        "#Program to find area of ellipse\n",
        "from sympy import *\n",
        "a,b=symbols(\"a,b\",real=True,positive=True)\n",
        "var(\"x,y\")\n",
        "print(\"Area, A= \")\n",
        "display(4*Integral(1,(y,0,b*sqrt(a**2-x**2)/a),(x,0,a)))\n",
        "A=(4*integrate(1,(y,0,b*sqrt(a**2-x**2)/a),(x,0,a)))\n",
        "print(\"=\", A)"
      ]
    },
    {
      "cell_type": "code",
      "source": [
        "#Program to find beta and gamma\n",
        "from sympy import *\n",
        "print(\"Beta(3,5)=%.3f\"%beta(3.0,5.0))\n",
        "print(\"gamma(5)=\",gamma(5))"
      ],
      "metadata": {
        "colab": {
          "base_uri": "https://localhost:8080/"
        },
        "id": "uVWSz9-lXjsH",
        "outputId": "dee288b1-3f7a-4c2b-cf81-91f68ff9d9f9"
      },
      "execution_count": null,
      "outputs": [
        {
          "output_type": "stream",
          "name": "stdout",
          "text": [
            "Beta(3,5)=0.010\n",
            "gamma(5)= 24\n"
          ]
        }
      ]
    },
    {
      "cell_type": "code",
      "source": [
        "#Proving relation between beta and gamma functions\n",
        "from sympy import *\n",
        "m = 5.0\n",
        "n = 7.0\n",
        "gm=gamma(m)\n",
        "gn=gamma(n)\n",
        "gmn=gamma(m+n)\n",
        "bmn=beta(m,n)\n",
        "RHS=(gm*gn)/gmn\n",
        "print(\"Beta(m,n)=%0.6f\"%bmn, \"RHS=%0.6f\"%RHS)\n",
        "if(bmn==RHS):\n",
        "  print(\"Beta and Gamma relation verified\")"
      ],
      "metadata": {
        "colab": {
          "base_uri": "https://localhost:8080/"
        },
        "id": "cQFKpVLzYHKc",
        "outputId": "622ed541-e304-4128-e3c6-b090548d4db8"
      },
      "execution_count": null,
      "outputs": [
        {
          "output_type": "stream",
          "name": "stdout",
          "text": [
            "Beta(m,n)=0.000433 RHS=0.000433\n",
            "Beta and Gamma relation verified\n"
          ]
        }
      ]
    },
    {
      "cell_type": "code",
      "source": [
        "#Program to find gradient\n",
        "from sympy . physics . vector import *\n",
        "from sympy import var, diff, Derivative\n",
        "\n",
        "var('x,y,z')\n",
        "v=ReferenceFrame('v')\n",
        "\n",
        "F=x**2*y+2*x*z-4\n",
        "print('The Scalar Function F is')\n",
        "display(F)\n",
        "\n",
        "gradF=diff(F,x)*v.x+diff(F,y)*v.y+diff(F,z)*v.z\n",
        "\n",
        "print(\"\\n Gradient of F is\")\n",
        "display(Derivative(F,x)*v.x+Derivative(F,y)*v.y+Derivative(F, z)*v.z)\n",
        "print(\"=\", end=\"\")\n",
        "display(gradF)"
      ],
      "metadata": {
        "colab": {
          "base_uri": "https://localhost:8080/",
          "height": 168
        },
        "id": "D6EqUh2lbdqv",
        "outputId": "e04d6fd2-bc85-46fa-c6de-963e1e7bf60a"
      },
      "execution_count": null,
      "outputs": [
        {
          "output_type": "stream",
          "name": "stdout",
          "text": [
            "The Scalar Function F is\n"
          ]
        },
        {
          "output_type": "display_data",
          "data": {
            "text/plain": [
              "x**2*y + 2*x*z - 4"
            ],
            "text/latex": "$\\displaystyle x^{2} y + 2 x z - 4$"
          },
          "metadata": {}
        },
        {
          "output_type": "stream",
          "name": "stdout",
          "text": [
            "\n",
            " Gradient of F is\n"
          ]
        },
        {
          "output_type": "display_data",
          "data": {
            "text/plain": [
              "Derivative(x**2*y + 2*x*z - 4, x)*v.x + Derivative(x**2*y + 2*x*z - 4, y)*v.y + Derivative(x**2*y + 2*x*z - 4, z)*v.z"
            ],
            "text/latex": "$\\displaystyle \\frac{\\partial}{\\partial x} \\left(x^{2} y + 2 x z - 4\\right)\\mathbf{\\hat{v}_x} + \\frac{\\partial}{\\partial y} \\left(x^{2} y + 2 x z - 4\\right)\\mathbf{\\hat{v}_y} + \\frac{\\partial}{\\partial z} \\left(x^{2} y + 2 x z - 4\\right)\\mathbf{\\hat{v}_z}$"
          },
          "metadata": {}
        },
        {
          "output_type": "stream",
          "name": "stdout",
          "text": [
            "="
          ]
        },
        {
          "output_type": "display_data",
          "data": {
            "text/plain": [
              "(2*x*y + 2*z)*v.x + x**2*v.y + 2*x*v.z"
            ],
            "text/latex": "$\\displaystyle (2 x y + 2 z)\\mathbf{\\hat{v}_x} + x^{2}\\mathbf{\\hat{v}_y} + 2 x\\mathbf{\\hat{v}_z}$"
          },
          "metadata": {}
        }
      ]
    },
    {
      "cell_type": "code",
      "source": [
        "#Python Program to find y(0.1) by Runge Kutta method when y=x-y**2, y(0)=1 RUNGE KUTTA METHOD\n",
        "\n",
        "f=lambda x,y: x-y**2\n",
        "x0=0\n",
        "y0=1\n",
        "h=0.1\n",
        "x1=x0+h\n",
        "k1=h*f(x0,y0)\n",
        "k2=h*f(x0+h/2,y0+k1/2)\n",
        "k3=h*f(x0+h/2,y0+k2/2)\n",
        "k4=h*f(x0+h,y0+k3)\n",
        "y1=y0+(1/6)*(k1+2*k2+2*k3+k4)\n",
        "print(k1,k2,k3,k4)\n",
        "print(x1,y1)"
      ],
      "metadata": {
        "colab": {
          "base_uri": "https://localhost:8080/"
        },
        "id": "bRy_US1UgYwY",
        "outputId": "7da26d1d-9aab-4fb2-c577-e3454d58d505"
      },
      "execution_count": null,
      "outputs": [
        {
          "output_type": "stream",
          "name": "stdout",
          "text": [
            "-0.1 -0.08524999999999999 -0.0866566890625 -0.07341960036342748\n",
            "0.1 0.913794503585262\n"
          ]
        }
      ]
    },
    {
      "cell_type": "code",
      "source": [
        "#MILNE'S CORRECTOR AND PREDICTOR FORMULA\n",
        "func = lambda x,y : x**2+y**2\n",
        "x=[0,0.1,0.2,0.3]\n",
        "y=[1,1.1113,1.2507,1.426]\n",
        "h=0.1\n",
        "f=[]\n",
        "for i in range(4):\n",
        "  f.append(func(x[i],y[i]))\n",
        "  print(f\"x{i}=%0.4f\\ty{i}=%0.4f\\tf{i}=%0.4f\"%(x[i],y[i],f[i]))\n",
        "#predict y4=y(x4)\n",
        "x4=x[3]+h\n",
        "y4p=y[0]+(4*h/3)*(2*f[1]-f[2]+2*f[3])\n",
        "print(\"The predicted value at x4=%.4f is y4p=%.5f\\n\"%(x4,y4p))\n",
        "#Correction\n",
        "for i in range(3):\n",
        "  f4p=func(x4,y4p)\n",
        "  y4c=y[2]+(h/3)*(f[2]+4*f[3]+f4p)\n",
        "  y4p=y4c\n",
        "  print(f\"The corrected value at x4=%.4f in iteration {i+1} is y4c{i+1}=%.5f\"%(x4,y4c))"
      ],
      "metadata": {
        "colab": {
          "base_uri": "https://localhost:8080/"
        },
        "id": "jEFQyGV8kYq9",
        "outputId": "b2861c09-401d-4b15-e83c-1635b76c7fab"
      },
      "execution_count": null,
      "outputs": [
        {
          "output_type": "stream",
          "name": "stdout",
          "text": [
            "x0=0.0000\ty0=1.0000\tf0=1.0000\n",
            "x1=0.1000\ty1=1.1113\tf1=1.2450\n",
            "x2=0.2000\ty2=1.2507\tf2=1.6043\n",
            "x3=0.3000\ty3=1.4260\tf3=2.1235\n",
            "The predicted value at x4=0.4000 is y4p=1.68436\n",
            "\n",
            "The corrected value at x4=0.4000 in iteration 1 is y4c1=1.68721\n",
            "The corrected value at x4=0.4000 in iteration 2 is y4c2=1.68753\n",
            "The corrected value at x4=0.4000 in iteration 3 is y4c3=1.68756\n"
          ]
        }
      ]
    },
    {
      "cell_type": "code",
      "source": [
        "print('human')"
      ],
      "metadata": {
        "colab": {
          "base_uri": "https://localhost:8080/"
        },
        "id": "h9kDkjqvXpXL",
        "outputId": "203c6b08-527a-40f9-f22e-dd2b2953f4c7"
      },
      "execution_count": null,
      "outputs": [
        {
          "output_type": "stream",
          "name": "stdout",
          "text": [
            "human\n"
          ]
        }
      ]
    },
    {
      "cell_type": "code",
      "source": [
        "#MODIFIED EULER'S METHOD\n",
        "\n",
        "f = lambda x,y: x+y\n",
        "x0=0\n",
        "y0=0\n",
        "h=0.1\n",
        "n=int(input(\"Enter the maximum number of iterations:\"))\n",
        "x1=x0+h\n",
        "y1e=y0+h*f(x0,y0)\n",
        "print(f\"Initial guess by Eulers Method x={x1} y={y1e}\")\n",
        "print(\"By Euler's Method\")\n",
        "print(f\"Iteration\\t\\ty1({x1})\")\n",
        "for i in range(n):\n",
        "  y1=y0+(h/2)*(f(x0,y0)+f(x1,y1e))\n",
        "  print(i+1, \"\\t\\t\\t%0.4f\"%y1)\n",
        "  if abs(y1-y1e)<0.0001:\n",
        "    break\n",
        "  else:\n",
        "    y1e=y1\n",
        "print(f\"\\ny({x1})=%0.4f\"%y1)"
      ],
      "metadata": {
        "colab": {
          "base_uri": "https://localhost:8080/"
        },
        "id": "hIGvYT2VXqFf",
        "outputId": "fe5aefb5-18d6-4594-c6f5-10e42da73579"
      },
      "execution_count": null,
      "outputs": [
        {
          "output_type": "stream",
          "name": "stdout",
          "text": [
            "Enter the maximum number of iterations:10\n",
            "Initial guess by Eulers Method x=0.1 y=0.0\n",
            "By Euler's Method\n",
            "Iteration\t\ty1(0.1)\n",
            "1 \t\t\t0.0050\n",
            "2 \t\t\t0.0053\n",
            "3 \t\t\t0.0053\n",
            "\n",
            "y(0.1)=0.0053\n"
          ]
        }
      ]
    },
    {
      "cell_type": "code",
      "source": [
        "#TAYLOR SERIES\n",
        "\n",
        "from sympy import *\n",
        "var(\"x,x1\")\n",
        "y=Function(\"y\")(x)\n",
        "f=2*y+3*exp(x)\n",
        "x0,y0=0,0\n",
        "fi=f\n",
        "der=[f]\n",
        "for i in range(3):\n",
        "  der.append(diff(f,x).subs(diff(y,x),fi))\n",
        "  f=der[i+1]\n",
        "yx1=y0\n",
        "for i in range(3):\n",
        "  f1=lambdify([x,y],der[i])\n",
        "  yx1=yx1+(((x1-x0)**(i+1))/factorial(i+1))*f1(x0,y0)\n",
        "print(\"The taylor series expansion upto 4th degree term is\")\n",
        "display(yx1)\n",
        "print(f\"y({x1})=%0.4f\"%yx1.subs(x1,float(input(\"Enter the value of x at which you need y: \"))))"
      ],
      "metadata": {
        "colab": {
          "base_uri": "https://localhost:8080/",
          "height": 91
        },
        "id": "FwuRdsF9b4lo",
        "outputId": "4fbd536e-3729-4999-cf89-7e1eef83232d"
      },
      "execution_count": null,
      "outputs": [
        {
          "output_type": "stream",
          "name": "stdout",
          "text": [
            "The taylor series expansion upto 4th degree term is\n"
          ]
        },
        {
          "output_type": "display_data",
          "data": {
            "text/plain": [
              "3.5*x1**3 + 4.5*x1**2 + 3.0*x1"
            ],
            "text/latex": "$\\displaystyle 3.5 x_{1}^{3} + 4.5 x_{1}^{2} + 3.0 x_{1}$"
          },
          "metadata": {}
        },
        {
          "output_type": "stream",
          "name": "stdout",
          "text": [
            "Enter the value of x at which you need y: 5\n",
            "y(x1)=565.0000\n"
          ]
        }
      ]
    },
    {
      "cell_type": "code",
      "source": [
        "#Program to find the area of the cardioid r=a(1+co(theta)) in polar form\n",
        "from sympy import *\n",
        "a=symbols(\"a\",real=True,positive=True)\n",
        "var(\"r,theta\")\n",
        "print('Area, A=')\n",
        "display(2*Integral(r,(r,theta,a*(1+cos(theta))),(theta,theta,pi)))\n",
        "A=(2*integrate(r,(r,theta,a*(1+cos(theta))),(theta,theta,pi)))\n",
        "print(\"=\")\n",
        "display(A)"
      ],
      "metadata": {
        "colab": {
          "base_uri": "https://localhost:8080/",
          "height": 160
        },
        "id": "99_-CmgngF5H",
        "outputId": "1f2941bd-a575-413b-e982-3fc08d1b28ab"
      },
      "execution_count": null,
      "outputs": [
        {
          "output_type": "stream",
          "name": "stdout",
          "text": [
            "Area, A=\n"
          ]
        },
        {
          "output_type": "display_data",
          "data": {
            "text/plain": [
              "2*Integral(r, (r, theta, a*(cos(theta) + 1)), (theta, theta, pi))"
            ],
            "text/latex": "$\\displaystyle 2 \\int\\limits_{\\theta}^{\\pi}\\int\\limits_{\\theta}^{a \\left(\\cos{\\left(\\theta \\right)} + 1\\right)} r\\, dr\\, d\\theta$"
          },
          "metadata": {}
        },
        {
          "output_type": "stream",
          "name": "stdout",
          "text": [
            "=\n"
          ]
        },
        {
          "output_type": "display_data",
          "data": {
            "text/plain": [
              "-a**2*(theta*sin(theta)**2/2 + theta*cos(theta)**2/2 + theta + sin(theta)*cos(theta)/2 + 2*sin(theta)) + 3*pi*a**2/2 + theta**3/3 - pi**3/3"
            ],
            "text/latex": "$\\displaystyle - a^{2} \\left(\\frac{\\theta \\sin^{2}{\\left(\\theta \\right)}}{2} + \\frac{\\theta \\cos^{2}{\\left(\\theta \\right)}}{2} + \\theta + \\frac{\\sin{\\left(\\theta \\right)} \\cos{\\left(\\theta \\right)}}{2} + 2 \\sin{\\left(\\theta \\right)}\\right) + \\frac{3 \\pi a^{2}}{2} + \\frac{\\theta^{3}}{3} - \\frac{\\pi^{3}}{3}$"
          },
          "metadata": {}
        }
      ]
    },
    {
      "cell_type": "code",
      "source": [
        "#Python program to find curl\n",
        "\n",
        "from sympy . physics . vector import *\n",
        "from sympy import var, diff, Derivative\n",
        "var('x,y,z')\n",
        "v=ReferenceFrame('v')\n",
        "F1=x**3\n",
        "F2=y**3\n",
        "F3=z**3\n",
        "F=F1*v.x+F2*v.y+F3*v.z\n",
        "curlF=(diff(F3,y)-diff(F2,z)*v.x-diff(F3,x)-diff(F1,z)*v.y+diff(F2,x)-diff(F1,y)*v.z)\n",
        "print(\"Given vector point functions is\")\n",
        "display(F)\n",
        "print(\"Curl of F is\")\n",
        "display((Derivative(F3,y)-Derivative(F2,z))*v.x-(Derivative(F3,x)-Derivative(F1,z))*v.y+(Derivative(F2,x)-Derivative(F1,y))*v.z)\n",
        "print(\"=\")\n",
        "display(curlF)"
      ],
      "metadata": {
        "id": "kGL8R7Q1lzbJ",
        "colab": {
          "base_uri": "https://localhost:8080/",
          "height": 149
        },
        "outputId": "8348c929-42c1-4586-f839-90b3afc93ecf"
      },
      "execution_count": null,
      "outputs": [
        {
          "output_type": "stream",
          "name": "stdout",
          "text": [
            "Given vector point functions is\n"
          ]
        },
        {
          "output_type": "display_data",
          "data": {
            "text/plain": [
              "x**3*v.x + y**3*v.y + z**3*v.z"
            ],
            "text/latex": "$\\displaystyle x^{3}\\mathbf{\\hat{v}_x} + y^{3}\\mathbf{\\hat{v}_y} + z^{3}\\mathbf{\\hat{v}_z}$"
          },
          "metadata": {}
        },
        {
          "output_type": "stream",
          "name": "stdout",
          "text": [
            "Curl of F is\n"
          ]
        },
        {
          "output_type": "display_data",
          "data": {
            "text/plain": [
              "(-Derivative(y**3, z) + Derivative(z**3, y))*v.x + (Derivative(x**3, z) - Derivative(z**3, x))*v.y + (-Derivative(x**3, y) + Derivative(y**3, x))*v.z"
            ],
            "text/latex": "$\\displaystyle (- \\frac{d}{d z} y^{3} + \\frac{d}{d y} z^{3})\\mathbf{\\hat{v}_x} + (\\frac{d}{d z} x^{3} - \\frac{d}{d x} z^{3})\\mathbf{\\hat{v}_y} + (- \\frac{d}{d y} x^{3} + \\frac{d}{d x} y^{3})\\mathbf{\\hat{v}_z}$"
          },
          "metadata": {}
        },
        {
          "output_type": "stream",
          "name": "stdout",
          "text": [
            "=\n"
          ]
        },
        {
          "output_type": "display_data",
          "data": {
            "text/plain": [
              "0"
            ],
            "text/latex": "$\\displaystyle 0$"
          },
          "metadata": {}
        }
      ]
    },
    {
      "cell_type": "code",
      "source": [
        "#Python Program for Green's Theorem\n",
        "from sympy import *\n",
        "x,y=symbols('x,y')\n",
        "p = x*y + y**2\n",
        "q = x**2\n",
        "f=diff(q,x)-diff(p,y)\n",
        "display(Integral (f,[y,x**2,x],[x,0,1]))\n",
        "sol = (integrate(f,[y,x**2,x],[x,0,1]))\n",
        "print(\"=\", sol)"
      ],
      "metadata": {
        "colab": {
          "base_uri": "https://localhost:8080/",
          "height": 98
        },
        "id": "qTLI2ktnXFo4",
        "outputId": "b3578bb5-1530-4d6a-ef46-669d3f817aa8"
      },
      "execution_count": null,
      "outputs": [
        {
          "output_type": "display_data",
          "data": {
            "text/plain": [
              "Integral(x - 2*y, (y, x**2, x), (x, 0, 1))"
            ],
            "text/latex": "$\\displaystyle \\int\\limits_{0}^{1}\\int\\limits_{x^{2}}^{x} \\left(x - 2 y\\right)\\, dy\\, dx$"
          },
          "metadata": {}
        },
        {
          "output_type": "stream",
          "name": "stdout",
          "text": [
            "= -1/20\n"
          ]
        }
      ]
    },
    {
      "cell_type": "code",
      "source": [
        "#VERIFYING THE RUNK-NULLITY THEOREM\n",
        "\n",
        "from sympy import *\n",
        "A = Matrix([[1,1,2],[1,-1,0],[0,0,-1]])\n",
        "r = A.rank()\n",
        "print('Rank of the linear transformation : r=',r)\n",
        "NullSpace = A.nullspace()\n",
        "print('Null Space of the linear transformation is ')\n",
        "NullSpace = Matrix(NullSpace)\n",
        "pprint(NullSpace)\n",
        "n=NullSpace.shape[1]\n",
        "dim = int(input('Enter the dimension of the vector space U:'))\n",
        "if dim==r+n:\n",
        "  print('Rank and Nullity theorem holds good')\n",
        "else:\n",
        "  print('dim(u)! = dim(R(T))+dim(N(T))')"
      ],
      "metadata": {
        "colab": {
          "base_uri": "https://localhost:8080/"
        },
        "id": "_ooN6CuEZ0dJ",
        "outputId": "d2fdd359-c1da-4e80-afca-46fba7e7ae81"
      },
      "execution_count": null,
      "outputs": [
        {
          "output_type": "stream",
          "name": "stdout",
          "text": [
            "Rank of the linear transformation : r= 3\n",
            "Null Space of the linear transformation is \n",
            "[]\n",
            "Enter the dimension of the vector space U:3\n",
            "Rank and Nullity theorem holds good\n"
          ]
        }
      ]
    },
    {
      "cell_type": "code",
      "source": [
        "#INTEGRATION\n",
        "\n",
        "from sympy import *\n",
        "x,y,z=symbols('x,y,z')\n",
        "w3=integrate((x*y*z),(z,0,3-x-y),(y,0,3-x),(x,0,3))\n",
        "display(w3)"
      ],
      "metadata": {
        "id": "8Xju1SkKc1Wa",
        "colab": {
          "base_uri": "https://localhost:8080/",
          "height": 51
        },
        "outputId": "1c57713b-36d8-4a62-ca1f-26eefd5f157a"
      },
      "execution_count": null,
      "outputs": [
        {
          "output_type": "display_data",
          "data": {
            "text/plain": [
              "81/80"
            ],
            "text/latex": "$\\displaystyle \\frac{81}{80}$"
          },
          "metadata": {}
        }
      ]
    },
    {
      "cell_type": "code",
      "source": [
        "#Python Program to find divergence of F\n",
        "\n",
        "from sympy import *\n",
        "from sympy . vector import *\n",
        "R = CoordSys3D('R')\n",
        "x,y,z = symbols('x,y,z')\n",
        "A = (R.x**2*R.y*R.z)*R.i + (R.y**2*R.x*R.z)*R.j + (R.z**2*R.x*R.y)*R.k\n",
        "delop = Del()\n",
        "display(delop(A))\n",
        "print('Divergence of A =')\n",
        "display(divergence(A))\n"
      ],
      "metadata": {
        "id": "EalCzsbOhStE",
        "colab": {
          "base_uri": "https://localhost:8080/",
          "height": 136
        },
        "outputId": "2d72b5fb-c725-4a16-f9d7-f38abcd0ab23"
      },
      "execution_count": 5,
      "outputs": [
        {
          "output_type": "display_data",
          "data": {
            "text/plain": [
              "(Derivative(R.x**2*R.y*R.z*R.i + R.x*R.y**2*R.z*R.j + R.x*R.y*R.z**2*R.k, R.x))*R.i + (Derivative(R.x**2*R.y*R.z*R.i + R.x*R.y**2*R.z*R.j + R.x*R.y*R.z**2*R.k, R.y))*R.j + (Derivative(R.x**2*R.y*R.z*R.i + R.x*R.y**2*R.z*R.j + R.x*R.y*R.z**2*R.k, R.z))*R.k"
            ],
            "text/latex": "$\\displaystyle \\left(\\frac{\\partial}{\\partial \\mathbf{{x}_{R}}} \\left(\\left(\\mathbf{{x}_{R}}^{2} \\mathbf{{y}_{R}} \\mathbf{{z}_{R}}\\right)\\mathbf{\\hat{i}_{R}} + \\left(\\mathbf{{x}_{R}} \\mathbf{{y}_{R}}^{2} \\mathbf{{z}_{R}}\\right)\\mathbf{\\hat{j}_{R}} + \\left(\\mathbf{{x}_{R}} \\mathbf{{y}_{R}} \\mathbf{{z}_{R}}^{2}\\right)\\mathbf{\\hat{k}_{R}}\\right)\\right)\\mathbf{\\hat{i}_{R}} + \\left(\\frac{\\partial}{\\partial \\mathbf{{y}_{R}}} \\left(\\left(\\mathbf{{x}_{R}}^{2} \\mathbf{{y}_{R}} \\mathbf{{z}_{R}}\\right)\\mathbf{\\hat{i}_{R}} + \\left(\\mathbf{{x}_{R}} \\mathbf{{y}_{R}}^{2} \\mathbf{{z}_{R}}\\right)\\mathbf{\\hat{j}_{R}} + \\left(\\mathbf{{x}_{R}} \\mathbf{{y}_{R}} \\mathbf{{z}_{R}}^{2}\\right)\\mathbf{\\hat{k}_{R}}\\right)\\right)\\mathbf{\\hat{j}_{R}} + \\left(\\frac{\\partial}{\\partial \\mathbf{{z}_{R}}} \\left(\\left(\\mathbf{{x}_{R}}^{2} \\mathbf{{y}_{R}} \\mathbf{{z}_{R}}\\right)\\mathbf{\\hat{i}_{R}} + \\left(\\mathbf{{x}_{R}} \\mathbf{{y}_{R}}^{2} \\mathbf{{z}_{R}}\\right)\\mathbf{\\hat{j}_{R}} + \\left(\\mathbf{{x}_{R}} \\mathbf{{y}_{R}} \\mathbf{{z}_{R}}^{2}\\right)\\mathbf{\\hat{k}_{R}}\\right)\\right)\\mathbf{\\hat{k}_{R}}$"
          },
          "metadata": {}
        },
        {
          "output_type": "stream",
          "name": "stdout",
          "text": [
            "Divergence of A =\n"
          ]
        },
        {
          "output_type": "display_data",
          "data": {
            "text/plain": [
              "6*R.x*R.y*R.z"
            ],
            "text/latex": "$\\displaystyle 6 \\mathbf{{x}_{R}} \\mathbf{{y}_{R}} \\mathbf{{z}_{R}}$"
          },
          "metadata": {}
        }
      ]
    },
    {
      "cell_type": "code",
      "source": [
        "#Python Program to Find the volume of tetrahedron\n",
        "from sympy import *\n",
        "a,b,c=symbols('a,b,c')\n",
        "var('x,y,z')\n",
        "print('Volume V=')\n",
        "display(Integral(1,(z,0,c*(1-x/a-y/b)),(y,0,b*(1-x/a)),(x,0,a)))\n",
        "A=(integrate(1,(z,0,c*(1-x/a-y/b)),(y,0,b*(1-x/a)),(x,0,a)))\n",
        "display(A)"
      ],
      "metadata": {
        "colab": {
          "base_uri": "https://localhost:8080/",
          "height": 140
        },
        "id": "ZCBJAL1grG-1",
        "outputId": "3c237485-e5c1-4e47-83cd-b2f1ddbb68e9"
      },
      "execution_count": null,
      "outputs": [
        {
          "output_type": "stream",
          "name": "stdout",
          "text": [
            "Volume V=\n"
          ]
        },
        {
          "output_type": "display_data",
          "data": {
            "text/plain": [
              "Integral(1, (z, 0, c*(1 - y/b - x/a)), (y, 0, b*(1 - x/a)), (x, 0, a))"
            ],
            "text/latex": "$\\displaystyle \\int\\limits_{0}^{a}\\int\\limits_{0}^{b \\left(1 - \\frac{x}{a}\\right)}\\int\\limits_{0}^{c \\left(1 - \\frac{y}{b} - \\frac{x}{a}\\right)} 1\\, dz\\, dy\\, dx$"
          },
          "metadata": {}
        },
        {
          "output_type": "display_data",
          "data": {
            "text/plain": [
              "a*b*c/6"
            ],
            "text/latex": "$\\displaystyle \\frac{a b c}{6}$"
          },
          "metadata": {}
        }
      ]
    },
    {
      "cell_type": "code",
      "source": [
        "#Python Program to Find the volume of Tetrahedron\n",
        "from sympy import *\n",
        "var('x,y,z')\n",
        "print('Volume, V=')\n",
        "display(Integral(1,(z,0,4*(1-x/2-y/3)),(y,0,3*(1-x/2)),(x,0,2)))\n",
        "V=integrate(1,(z,0,4*(1-x/2-y/3)),(y,0,3*(1-x/2)),(x,0,2))\n",
        "display(V)"
      ],
      "metadata": {
        "colab": {
          "base_uri": "https://localhost:8080/",
          "height": 123
        },
        "id": "z0UnFqlEt-ys",
        "outputId": "027eeb9e-5a9e-49d0-e4b5-0111b252ca38"
      },
      "execution_count": null,
      "outputs": [
        {
          "output_type": "stream",
          "name": "stdout",
          "text": [
            "Volume, V=\n"
          ]
        },
        {
          "output_type": "display_data",
          "data": {
            "text/plain": [
              "Integral(1, (z, 0, -2*x - 4*y/3 + 4), (y, 0, 3 - 3*x/2), (x, 0, 2))"
            ],
            "text/latex": "$\\displaystyle \\int\\limits_{0}^{2}\\int\\limits_{0}^{3 - \\frac{3 x}{2}}\\int\\limits_{0}^{- 2 x - \\frac{4 y}{3} + 4} 1\\, dz\\, dy\\, dx$"
          },
          "metadata": {}
        },
        {
          "output_type": "display_data",
          "data": {
            "text/plain": [
              "4"
            ],
            "text/latex": "$\\displaystyle 4$"
          },
          "metadata": {}
        }
      ]
    },
    {
      "cell_type": "code",
      "source": [
        "#TAYLOR SERIES\n",
        "from sympy import *\n",
        "var('x,x1')\n",
        "y=Function('y')(x)\n",
        "f=x**2+y**2\n",
        "x0,y0=0,1\n",
        "fi=f\n",
        "der=[f]\n",
        "for i in range(3):\n",
        "  der.append(diff(f,x).subs(diff(y,x),fi))\n",
        "  f=der[i+1]\n",
        "yx1=y0\n",
        "for i in range(3):\n",
        "  f1=lambdify([x,y],der[i])\n",
        "  yx1=yx1+(((x1-x0)**(i+1))/factorial(i+1))*f1(x0,y0)\n",
        "print('The taylor series expansion upto the fourth degree term is')\n",
        "display(yx1)\n",
        "print(f\"y({x1})=%0.4f\"%yx1.subs(x1,float(input(\"Enter the value of x at which you need\"))))\n"
      ],
      "metadata": {
        "colab": {
          "base_uri": "https://localhost:8080/",
          "height": 106
        },
        "id": "AM0JziY5uhd8",
        "outputId": "59bad37e-1cc7-4a0d-8303-854da2b1dccd"
      },
      "execution_count": null,
      "outputs": [
        {
          "output_type": "stream",
          "name": "stdout",
          "text": [
            "The taylor series expansion upto the fourth degree term is\n"
          ]
        },
        {
          "output_type": "display_data",
          "data": {
            "text/plain": [
              "4*x1**3/3 + x1**2 + x1 + 1"
            ],
            "text/latex": "$\\displaystyle \\frac{4 x_{1}^{3}}{3} + x_{1}^{2} + x_{1} + 1$"
          },
          "metadata": {}
        },
        {
          "output_type": "stream",
          "name": "stdout",
          "text": [
            "Enter the value of x at which you need8\n",
            "y(x1)=755.6667\n"
          ]
        }
      ]
    },
    {
      "cell_type": "code",
      "source": [
        "#MODIFIED EULER's METHOD\n",
        "f=lambda x,y:x+y\n",
        "x0=0\n",
        "y0=1\n",
        "h=0.1\n",
        "n=int(input('Enter the maximum number of iterations to be performed'))\n",
        "x1=x0+h\n",
        "y1e=y0+h*f(x0,y0)\n",
        "print(\"Initial guess by Euler's method is x and y = \", x, y1e)\n",
        "print('By Modified Eulers')\n",
        "print(f\"Iteration\\t\\ty1({x1})\")\n",
        "for i in range(n):\n",
        "  y1=y0+(h/2)*(f(x0,y0)+f(x1,y1e))\n",
        "  print(i+1, \"\\t\\t\\t%.4f\"%y1)\n",
        "  if abs(y1-y1e)<0.000001:\n",
        "    break\n",
        "  else:\n",
        "    y1e=y1\n",
        "print(f\"y({x1})=\", y1)"
      ],
      "metadata": {
        "colab": {
          "base_uri": "https://localhost:8080/"
        },
        "id": "-mJQylwGx-YM",
        "outputId": "e65e9cfd-38db-42fa-ad8f-f97a56065e8b"
      },
      "execution_count": null,
      "outputs": [
        {
          "output_type": "stream",
          "name": "stdout",
          "text": [
            "Enter the maximum number of iterations to be performed8\n",
            "Initial guess by Euler's method is x and y =  x 1.1\n",
            "By Modified Eulers\n",
            "Iteration\t\ty1(0.1)\n",
            "1 \t\t\t1.1100\n",
            "2 \t\t\t1.1105\n",
            "3 \t\t\t1.1105\n",
            "4 \t\t\t1.1105\n",
            "5 \t\t\t1.1105\n",
            "y(0.1)= 1.1105263125\n"
          ]
        }
      ]
    },
    {
      "cell_type": "code",
      "source": [
        "#RUNGE KUTTA METHOD\n",
        "f=lambda x,y:3*x+y/2\n",
        "x0=0\n",
        "y0=1\n",
        "h=0.2\n",
        "x1=x0+h\n",
        "k1=h*f(x0,y0)\n",
        "k2=h*f(x0+h/2,y0+k1/2)\n",
        "k3=h*f(x0+h/2,y0+k2/2)\n",
        "k4=h*f(x0+h,y0+k3)\n",
        "y1=y0+(1/6)*(k1+2*k2+2*k3+k4)\n",
        "print(f\"y({x1})={y1}\")"
      ],
      "metadata": {
        "colab": {
          "base_uri": "https://localhost:8080/"
        },
        "id": "m3aGAcsiz6ZP",
        "outputId": "4a26def7-6cd6-409b-8175-cbff6534f520"
      },
      "execution_count": null,
      "outputs": [
        {
          "output_type": "stream",
          "name": "stdout",
          "text": [
            "y(0.2)=1.1672208333333334\n"
          ]
        }
      ]
    },
    {
      "cell_type": "code",
      "source": [
        "#MILNES PREDICTOR AND CORRECTOR\n",
        "\n",
        "func = lambda x,y : x**2+(y/2)\n",
        "x=[1,1.1,1.2,1.3]\n",
        "y=[2,2.2156,2.4649,2.7514]\n",
        "h=0.1\n",
        "f=[]\n",
        "for i in range(4):\n",
        "  f.append(func(x[i],y[i]))\n",
        "  print(f\"x{i}=%.4f\\t y{i}=%0.4f\\t f{i}=%0.4f\\t\", x[i],y[i],f[i])\n",
        "#PREDICTION\n",
        "x4=x[3]+h\n",
        "y4p=y[0]+(4*h/3)*(2*f[1]-f[2]+2*f[3])\n",
        "#Print predicted value\n",
        "#Correction\n",
        "for i in range(3):\n",
        "  f4p=func(x4,y4p)\n",
        "  y4c=y[0]+(h/3)*(f[2]+4*f[3]+f4p)\n",
        "  y4p=y4c\n",
        "  #CORRECTED VALUE OUTPUT"
      ],
      "metadata": {
        "colab": {
          "base_uri": "https://localhost:8080/"
        },
        "id": "yE4GEyCY27oR",
        "outputId": "a48e7a59-591a-440b-9047-a1669dd6c699"
      },
      "execution_count": null,
      "outputs": [
        {
          "output_type": "stream",
          "name": "stdout",
          "text": [
            "x0=%.4f\t y0=%0.4f\t f0=%0.4f\t 1 2 2.0\n",
            "x1=%.4f\t y1=%0.4f\t f1=%0.4f\t 1.1 2.2156 2.3178\n",
            "x2=%.4f\t y2=%0.4f\t f2=%0.4f\t 1.2 2.4649 2.67245\n",
            "x3=%.4f\t y3=%0.4f\t f3=%0.4f\t 1.3 2.7514 3.0657\n"
          ]
        }
      ]
    },
    {
      "cell_type": "code",
      "source": [],
      "metadata": {
        "id": "tcrSBHtf6SoA"
      },
      "execution_count": null,
      "outputs": []
    }
  ]
}