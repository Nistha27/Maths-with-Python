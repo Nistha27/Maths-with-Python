{
 "cells": [
  {
   "cell_type": "markdown",
   "id": "0da5c977",
   "metadata": {},
   "source": [
    "## Gradient \n"
   ]
  },
  {
   "cell_type": "code",
   "execution_count": 20,
   "id": "1895210d",
   "metadata": {},
   "outputs": [
    {
     "name": "stdout",
     "output_type": "stream",
     "text": [
      "Enter the scalar function(in terms of x,y and z :)x**2+3*y+z**4\n",
      "The Scalar Function F is\n"
     ]
    },
    {
     "data": {
      "text/plain": [
       "'x**2+3*y+z**4'"
      ]
     },
     "metadata": {},
     "output_type": "display_data"
    },
    {
     "name": "stdout",
     "output_type": "stream",
     "text": [
      "\n",
      " Gradient of F is\n"
     ]
    },
    {
     "data": {
      "text/latex": [
       "$\\displaystyle \\frac{\\partial}{\\partial x} \\left(x^{2} + 3 y + z^{4}\\right)\\mathbf{\\hat{v}_x} + \\frac{\\partial}{\\partial y} \\left(x^{2} + 3 y + z^{4}\\right)\\mathbf{\\hat{v}_y} + \\frac{\\partial}{\\partial z} \\left(x^{2} + 3 y + z^{4}\\right)\\mathbf{\\hat{v}_z}$"
      ],
      "text/plain": [
       "Derivative(x**2 + 3*y + z**4, x)*v.x + Derivative(x**2 + 3*y + z**4, y)*v.y + Derivative(x**2 + 3*y + z**4, z)*v.z"
      ]
     },
     "metadata": {},
     "output_type": "display_data"
    },
    {
     "name": "stdout",
     "output_type": "stream",
     "text": [
      "="
     ]
    },
    {
     "data": {
      "text/latex": [
       "$\\displaystyle 2 x\\mathbf{\\hat{v}_x} + 3\\mathbf{\\hat{v}_y} + 4 z^{3}\\mathbf{\\hat{v}_z}$"
      ],
      "text/plain": [
       "2*x*v.x + 3*v.y + 4*z**3*v.z"
      ]
     },
     "metadata": {},
     "output_type": "display_data"
    }
   ],
   "source": [
    "#Program to find gradient\n",
    "# F(vector)=x**2*y+2*x*z-4\n",
    "from sympy . physics . vector import *\n",
    "from sympy import var, diff, Derivative\n",
    "var('x,y,z')\n",
    "v=ReferenceFrame('v')\n",
    "F= input(\"Enter the scalar function(in terms of x,y and z :)\")\n",
    "print('The Scalar Function F is')\n",
    "display(F)\n",
    "gradF=diff(F,x)*v.x+diff(F,y)*v.y+diff(F,z)*v.z\n",
    "print(\"\\n Gradient of F is\")\n",
    "display(Derivative(F,x)*v.x+Derivative(F,y)*v.y+Derivative(F, z)*v.z)\n",
    "print(\"=\", end=\"\")\n",
    "display(gradF)"
   ]
  },
  {
   "cell_type": "markdown",
   "id": "558ab696",
   "metadata": {},
   "source": [
    "###  To find divergence of a vector point function"
   ]
  },
  {
   "cell_type": "code",
   "execution_count": 1,
   "id": "756b3904",
   "metadata": {},
   "outputs": [
    {
     "name": "stdout",
     "output_type": "stream",
     "text": [
      "Enter the the vector i part (interms of x,y,z): x*y*z**2\n",
      "Enter the the vector j part (interms of x,y,z): x*y**2*z\n",
      "Enter the the vector k part (interms of x,y,z): x**2*y*z\n"
     ]
    },
    {
     "data": {
      "text/latex": [
       "$\\displaystyle \\frac{\\partial}{\\partial z} x y z^{2}\\mathbf{\\hat{v}_x} + \\frac{\\partial}{\\partial y} x y^{2} z\\mathbf{\\hat{v}_y} + \\frac{\\partial}{\\partial x} x^{2} y z\\mathbf{\\hat{v}_z}$"
      ],
      "text/plain": [
       "Derivative(x*y*z**2, z)*v.x + Derivative(x*y**2*z, y)*v.y + Derivative(x**2*y*z, x)*v.z"
      ]
     },
     "metadata": {},
     "output_type": "display_data"
    },
    {
     "name": "stdout",
     "output_type": "stream",
     "text": [
      "\n",
      " Divergence of the vector\n",
      "\n"
     ]
    }
   ],
   "source": [
    "# To find divergence of a vector point function\n",
    "from pylab import *\n",
    "from sympy . physics .vector import *\n",
    "from sympy import symbols,var,diff,Derivative\n",
    "var(\"x,y,z\")\n",
    "v=ReferenceFrame(\"v\")\n",
    "f1=input(\"Enter the the vector i part (interms of x,y,z): \")\n",
    "f2=input(\"Enter the the vector j part (interms of x,y,z): \")\n",
    "f3=input(\"Enter the the vector k part (interms of x,y,z): \")\n",
    "F=f1+f2+f3\n",
    "a=display(Derivative(f1,z)*v.x+Derivative(f2,y)*v.y+Derivative(f3,x)*v.z)\n",
    "divergence = diff(f1,z)+diff(f2,y)+diff(f3,x)\n",
    "print (f\"\\n Divergence of the vector\")\n",
    "print()"
   ]
  },
  {
   "cell_type": "markdown",
   "id": "b3405b61",
   "metadata": {},
   "source": [
    "### Find the curl of the vector F"
   ]
  },
  {
   "cell_type": "code",
   "execution_count": 2,
   "id": "bf7dee68",
   "metadata": {},
   "outputs": [
    {
     "name": "stdout",
     "output_type": "stream",
     "text": [
      "Enter the vector F i part :x*y*z\n",
      "Enter the vector F j part :x*z*y**2\n",
      "Enter the vector F k part :x*z**2*y\n",
      "Curl of the vector F \n"
     ]
    },
    {
     "data": {
      "text/latex": [
       "$\\displaystyle x y z\\mathbf{\\hat{v}_x} + x y^{2} z\\mathbf{\\hat{v}_y} + x y z^{2}\\mathbf{\\hat{v}_z}$"
      ],
      "text/plain": [
       "x*y*z*v.x + x*y**2*z*v.y + x*y*z**2*v.z"
      ]
     },
     "metadata": {},
     "output_type": "display_data"
    },
    {
     "data": {
      "text/latex": [
       "$\\displaystyle (- x y^{2} + x z^{2})\\mathbf{\\hat{v}_x} + (x y - y z^{2})\\mathbf{\\hat{v}_y} + (- x z + y^{2} z)\\mathbf{\\hat{v}_z}$"
      ],
      "text/plain": [
       "(-x*y**2 + x*z**2)*v.x + (x*y - y*z**2)*v.y + (-x*z + y**2*z)*v.z"
      ]
     },
     "metadata": {},
     "output_type": "display_data"
    }
   ],
   "source": [
    "#Find the curl of the vector F\n",
    "from sympy.physics.vector import *\n",
    "from sympy import *\n",
    "var(\"x,y,z\")\n",
    "v=ReferenceFrame(\"v\")\n",
    "f1= input(\"Enter the vector F i part :\")\n",
    "f2= input(\"Enter the vector F j part :\")\n",
    "f3= input(\"Enter the vector F k part :\")\n",
    "F= f1*v.x+f2*v.y+f3*v.z\n",
    "print(\"Curl of the vector F \")\n",
    "display(F)\n",
    "curlF=((diff(f3,y)-diff(f2,z))*v.x-(diff(f3,x)-diff(f1,z))*v.y+(diff(f2,x)-diff(f1,y))*v.z)\n",
    "display(curlF)"
   ]
  },
  {
   "cell_type": "markdown",
   "id": "2cf7b32e",
   "metadata": {},
   "source": [
    "### Greens Theoram"
   ]
  },
  {
   "cell_type": "code",
   "execution_count": 3,
   "id": "8bcf688f",
   "metadata": {},
   "outputs": [
    {
     "name": "stdout",
     "output_type": "stream",
     "text": [
      " I =  -1\n"
     ]
    }
   ],
   "source": [
    "#Greens Theoram \n",
    "#Using Green’s theorem, evaluate integral[(x + 2y)dx + (x − 2y)dy], where c is the region\n",
    "#bounded by coordinate axes and the line x = 1 and y = 1.\n",
    "from sympy import *\n",
    "var ( 'x , y ')\n",
    "p = x + 2 * y\n",
    "q = x - 2 * y\n",
    "f = diff (q , x ) - diff (p , y )\n",
    "soln = integrate (f , [x ,0 , 1 ] ,[y ,0 , 1 ] )\n",
    "print ( \" I = \" , soln )"
   ]
  },
  {
   "cell_type": "code",
   "execution_count": 5,
   "id": "0a5d547f",
   "metadata": {},
   "outputs": [
    {
     "name": "stdout",
     "output_type": "stream",
     "text": [
      " I =  -1/20\n"
     ]
    }
   ],
   "source": [
    "#Using Green’s theorem, evaluate integral[(xy + y2)dx + x2dy], where c is the closed curvebounded by y = x and y = x2.\n",
    "from sympy import *\n",
    "var ( 'x , y ')\n",
    "p = x * y + y ** 2\n",
    "q = x ** 2\n",
    "f = diff (q , x ) - diff (p , y )\n",
    "soln = integrate (f , [y , x ** 2 , x ] ,[x ,0 , 1 ] )\n",
    "print ( \" I = \" , soln )"
   ]
  },
  {
   "cell_type": "markdown",
   "id": "9c5d2b30",
   "metadata": {},
   "source": [
    "The quadratic formula is $ax^2 + bx + c = 0$.\n"
   ]
  }
 ],
 "metadata": {
  "kernelspec": {
   "display_name": "Python 3 (ipykernel)",
   "language": "python",
   "name": "python3"
  },
  "language_info": {
   "codemirror_mode": {
    "name": "ipython",
    "version": 3
   },
   "file_extension": ".py",
   "mimetype": "text/x-python",
   "name": "python",
   "nbconvert_exporter": "python",
   "pygments_lexer": "ipython3",
   "version": "3.9.12"
  }
 },
 "nbformat": 4,
 "nbformat_minor": 5
}
